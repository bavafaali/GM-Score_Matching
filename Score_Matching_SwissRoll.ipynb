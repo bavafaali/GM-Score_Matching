{
  "cells": [
    {
      "cell_type": "code",
      "execution_count": 2,
      "metadata": {
        "id": "SxILEnHW9-43"
      },
      "outputs": [],
      "source": [
        "import numpy as np\n",
        "import matplotlib.pyplot as plt\n",
        "import torch\n",
        "from sklearn.datasets import make_swiss_roll"
      ]
    },
    {
      "cell_type": "markdown",
      "metadata": {
        "id": "pQy8lIQliqPz"
      },
      "source": [
        "# Part 1: Score matching"
      ]
    },
    {
      "cell_type": "markdown",
      "metadata": {
        "id": "I8fg91_-U0oa"
      },
      "source": [
        "# 1-1 load dataset\n"
      ]
    },
    {
      "cell_type": "code",
      "execution_count": 3,
      "metadata": {
        "colab": {
          "base_uri": "https://localhost:8080/",
          "height": 283
        },
        "id": "T09e9B3yRbkz",
        "outputId": "e8e7b7cd-3b16-4906-d1b0-6a9835531b17"
      },
      "outputs": [
        {
          "data": {
            "text/plain": [
              "[<matplotlib.lines.Line2D at 0x7f62a821fe50>]"
            ]
          },
          "execution_count": 3,
          "metadata": {},
          "output_type": "execute_result"
        },
        {
          "data": {
            "image/png": "[encoded data removed]",
            "text/plain": [
              "<Figure size 432x288 with 1 Axes>"
            ]
          },
          "metadata": {
            "needs_background": "light"
          },
          "output_type": "display_data"
        }
      ],
      "source": [
        "# generate the swiss roll dataset\n",
        "xnp, _ = make_swiss_roll(1000, noise=1.0)\n",
        "xtns = torch.as_tensor(xnp[:, [0, 2]] / 10.0, dtype=torch.float32)\n",
        "dset = torch.utils.data.TensorDataset(xtns)\n",
        "\n",
        "# show the samples\n",
        "\n",
        "plt.plot(xtns[:, 0], xtns[:, 1], 'C0.')"
      ]
    },
    {
      "cell_type": "code",
      "execution_count": 4,
      "metadata": {
        "colab": {
          "base_uri": "https://localhost:8080/"
        },
        "id": "NAsMU1hW14Ou",
        "outputId": "3dc86318-1d99-4cb5-8a77-681c3d159571"
      },
      "outputs": [
        {
          "data": {
            "text/plain": [
              "torch.Size([1000, 2])"
            ]
          },
          "execution_count": 4,
          "metadata": {},
          "output_type": "execute_result"
        }
      ],
      "source": [
        "xtns.shape"
      ]
    },
    {
      "cell_type": "markdown",
      "metadata": {
        "id": "LCE9YKSnVErB"
      },
      "source": [
        "# 1-2 Neural Network for: $\\mathbf{s_\\theta}(\\mathbf{x})$"
      ]
    },
    {
      "cell_type": "code",
      "execution_count": 5,
      "metadata": {
        "id": "ptfgXHVaWCOD"
      },
      "outputs": [],
      "source": [
        "# score_network takes input of 2 dimension and returns the output of the same size\n",
        "score_network = torch.nn.Sequential(\n",
        "    torch.nn.Linear(2, 64),\n",
        "    torch.nn.LogSigmoid(),\n",
        "    torch.nn.Linear(64, 64),\n",
        "    torch.nn.LogSigmoid(),\n",
        "    torch.nn.Linear(64, 64),\n",
        "    torch.nn.LogSigmoid(),\n",
        "    torch.nn.Linear(64, 2),\n",
        ")"
      ]
    },
    {
      "cell_type": "markdown",
      "metadata": {
        "id": "PZKbjvXBYJuW"
      },
      "source": [
        "# 1-3 Score Matching\n"
      ]
    },
    {
      "attachments": {},
      "cell_type": "markdown",
      "metadata": {
        "id": "XTdUlT3_WFry"
      },
      "source": [
        "Loss function:\n",
        "$$\\begin{equation}\n",
        "\\mathcal{L}(\\theta) = \\mathbb{E}_{\\mathbf{x}\\sim p(\\mathbf{x})}\\left[\\frac{1}{2} \\left\\lVert\\mathbf{s_\\theta}(\\mathbf{x})\\right\\rVert^2 + \\mathrm{tr}\\left(\\nabla_\\mathbf{x} \\mathbf{s_\\theta}(\\mathbf{x})\\right)\\right].\n",
        "\\end{equation}$$"
      ]
    },
    {
      "cell_type": "code",
      "execution_count": 6,
      "metadata": {
        "colab": {
          "base_uri": "https://localhost:8080/"
        },
        "id": "LsX4LzuYaPM9",
        "outputId": "a7e13b52-0920-4e8b-df03-40c393ed89bc"
      },
      "outputs": [
        {
          "name": "stdout",
          "output_type": "stream",
          "text": [
            "Looking in indexes: https://pypi.org/simple, https://us-python.pkg.dev/colab-wheels/public/simple/\n",
            "Collecting functorch\n",
            "  Downloading functorch-1.13.0-py2.py3-none-any.whl (2.1 kB)\n",
            "Requirement already satisfied: torch<1.13.1,>=1.13.0 in /usr/local/lib/python3.8/dist-packages (from functorch) (1.13.0+cu116)\n",
            "Requirement already satisfied: typing-extensions in /usr/local/lib/python3.8/dist-packages (from torch<1.13.1,>=1.13.0->functorch) (4.4.0)\n",
            "Installing collected packages: functorch\n",
            "Successfully installed functorch-1.13.0\n"
          ]
        }
      ],
      "source": [
        "!pip install functorch"
      ]
    },
    {
      "cell_type": "code",
      "execution_count": 7,
      "metadata": {
        "id": "UN52ud4wWppV"
      },
      "outputs": [],
      "source": [
        "from functorch import jacrev, vmap\n",
        "\n",
        "\n",
        "def calc_loss(score_net: torch.nn.Module, x: torch.Tensor) -> torch.Tensor:\n",
        "    # x: (batch_size, 2) is the training data\n",
        "    score = score_net(x)  # score: (batch_size, 2)\n",
        "    jacobian = vmap(jacrev(score_net))(x)\n",
        "    score_loss_1 = 0.5 * (torch.norm(score, dim=1) ** 2)\n",
        "    score_loss_2 = jacobian.diagonal(offset=0, dim1=-2, dim2=-1).sum(dim=-1)\n",
        "    \n",
        "    return torch.mean(score_loss_1 + score_loss_2)\n"
      ]
    },
    {
      "cell_type": "markdown",
      "metadata": {
        "id": "nYF_9ASMYFKV"
      },
      "source": [
        "# 1-4 Training"
      ]
    },
    {
      "cell_type": "code",
      "execution_count": 8,
      "metadata": {
        "colab": {
          "base_uri": "https://localhost:8080/"
        },
        "id": "2gIsgMxnX_7V",
        "outputId": "454a0d16-53c5-403a-a76a-3bc5ae533124"
      },
      "outputs": [
        {
          "name": "stdout",
          "output_type": "stream",
          "text": [
            "0 (0.39099955558776855s): -0.07634089222550391\n",
            "250 (46.3868944644928s): -10.94211376953125\n",
            "500 (83.3249580860138s): -20.219703704833986\n",
            "750 (123.1351330280304s): -38.67955676269531\n",
            "1000 (162.7732276916504s): -44.428460510253906\n",
            "1250 (203.70537996292114s): -48.879791717529294\n",
            "1500 (245.5563395023346s): -50.77319790649414\n",
            "1750 (288.97051429748535s): -54.75424279785156\n",
            "2000 (334.17230463027954s): -56.93018563842774\n",
            "2250 (374.8728771209717s): -59.32458282470703\n",
            "2500 (415.4845154285431s): -61.91180126953125\n",
            "2750 (456.1122353076935s): -63.381320014953616\n",
            "3000 (497.408460855484s): -65.2464873046875\n",
            "3250 (538.3034961223602s): -67.90019325256348\n",
            "3500 (579.6631636619568s): -68.77547387695313\n",
            "3750 (622.5111465454102s): -72.12169065856934\n",
            "4000 (663.7954411506653s): -74.52890525817871\n",
            "4250 (704.2462675571442s): -77.40025720214844\n",
            "4500 (744.7067868709564s): -80.60355187988282\n",
            "4750 (787.5191361904144s): -83.97239590454102\n"
          ]
        }
      ],
      "source": [
        "# start the training loop\n",
        "import time\n",
        "optim = torch.optim.Adam(score_network.parameters(), lr=3e-4)\n",
        "dloader = torch.utils.data.DataLoader(dset, batch_size = 32, shuffle=True)\n",
        "t0 = time.time()\n",
        "train_loss = []\n",
        "for i_epoch in range(5000):\n",
        "    total_loss = 0\n",
        "    for data, in dloader:\n",
        "        # print(data)\n",
        "\n",
        "        optim.zero_grad()\n",
        "\n",
        "        # training step\n",
        "        loss = calc_loss(score_network, data)\n",
        "        loss.backward()\n",
        "        optim.step()\n",
        "        \n",
        "        # running stats\n",
        "        total_loss = total_loss + loss.detach().item() * data.shape[0]\n",
        "    \n",
        "    # print the training stats\n",
        "    if i_epoch % 250 == 0:\n",
        "        print(f\"{i_epoch} ({time.time() - t0}s): {total_loss / len(dset)}\")\n",
        "    train_loss = np.append(train_loss ,loss.item())\n"
      ]
    },
    {
      "cell_type": "code",
      "execution_count": 9,
      "metadata": {
        "colab": {
          "base_uri": "https://localhost:8080/",
          "height": 281
        },
        "id": "6ukvJRTi_iLU",
        "outputId": "d716c044-4ab9-47ac-860e-1806ed068fd7"
      },
      "outputs": [
        {
          "data": {
            "image/png": "[encoded data removed]",
            "text/plain": [
              "<Figure size 432x288 with 1 Axes>"
            ]
          },
          "metadata": {
            "needs_background": "light"
          },
          "output_type": "display_data"
        }
      ],
      "source": [
        "plt.plot(train_loss)\n",
        "plt.title('Loss')\n",
        "plt.show()"
      ]
    },
    {
      "cell_type": "markdown",
      "metadata": {
        "id": "981_iagZilvD"
      },
      "source": [
        "# 1-5 Generation"
      ]
    },
    {
      "attachments": {},
      "cell_type": "markdown",
      "metadata": {
        "id": "2RxLFiexRetw"
      },
      "source": [
        "Generating samples using Langevin dynamics:\n",
        "\n",
        "$$\\begin{equation}\n",
        "    \\mathbf{x}_{i + 1} = \\mathbf{x}_i + \\varepsilon \\nabla_\\mathbf{x}\\mathrm{log}\\ p(\\mathbf{x}) + \\sqrt{2\\varepsilon} \\mathbf{z}_i\n",
        "\\end{equation}$$\n",
        "\n",
        "where $\\mathbf{z}_i\\sim\\mathcal{N}(\\mathbf{0}, \\mathbf{I})$ is a random number sampled from the normal distribution."
      ]
    },
    {
      "cell_type": "code",
      "execution_count": 10,
      "metadata": {
        "id": "WtgTo8uvgbSu"
      },
      "outputs": [],
      "source": [
        "def generate_samples(score_net: torch.nn.Module, nsamples: int, eps: float = 0.001, nsteps: int = 1000) -> torch.Tensor:\n",
        "    new_x = torch.rand(nsamples, 2)\n",
        "    \n",
        "    for i in range(nsteps):\n",
        "      draw = torch.randn_like(new_x)\n",
        "      new_x = new_x + (eps * score_net(new_x)) +  ((2 * eps) ** 0.5) * draw\n",
        "      \n",
        "    return new_x\n",
        "    \n",
        "\n",
        "with torch.no_grad():\n",
        "  samples = generate_samples(score_network, 1000)\n",
        "    "
      ]
    },
    {
      "cell_type": "code",
      "execution_count": 11,
      "metadata": {
        "colab": {
          "base_uri": "https://localhost:8080/",
          "height": 299
        },
        "id": "PQFHHVzPhr4T",
        "outputId": "e8d0f36e-96ec-40a6-a82f-b88babc55804"
      },
      "outputs": [
        {
          "data": {
            "text/plain": [
              "Text(0.5, 1.0, 'Generated samples using Langevin dynamics')"
            ]
          },
          "execution_count": 11,
          "metadata": {},
          "output_type": "execute_result"
        },
        {
          "data": {
            "image/png": "[encoded data removed]",
            "text/plain": [
              "<Figure size 432x288 with 1 Axes>"
            ]
          },
          "metadata": {
            "needs_background": "light"
          },
          "output_type": "display_data"
        }
      ],
      "source": [
        "plt.plot(samples[:, 0], samples[:, 1], 'C1.')\n",
        "plt.title('Generated samples using Langevin dynamics')"
      ]
    },
    {
      "cell_type": "markdown",
      "metadata": {
        "id": "-YUpcwwqiufY"
      },
      "source": [
        "# Part 2: Denoising Score matching"
      ]
    },
    {
      "cell_type": "markdown",
      "metadata": {
        "id": "NWk4Al9DqwfS"
      },
      "source": [
        "# 2-1 Noise conditional Neural Network"
      ]
    },
    {
      "attachments": {},
      "cell_type": "markdown",
      "metadata": {
        "id": "8-6-Z6XCqnHi"
      },
      "source": [
        "Defining the neural network that will learn the score function. This is just a simple multi-layer perceptron with LogSigmoid activation function. In contrast to the previous part, the neural network here takes n+1 inputs and produces n outputs. The additional 1 input is for the noise in $t_i$"
      ]
    },
    {
      "cell_type": "code",
      "execution_count": 12,
      "metadata": {
        "id": "Pqtu-X7kquPE"
      },
      "outputs": [],
      "source": [
        "# score_network takes input of 2 + 1 (noise) and returns the output of the same size (2)\n",
        "score_network2 = torch.nn.Sequential(\n",
        "    torch.nn.Linear(3, 64),\n",
        "    torch.nn.LogSigmoid(),\n",
        "    torch.nn.Linear(64, 64),\n",
        "    torch.nn.LogSigmoid(),\n",
        "    torch.nn.Linear(64, 64),\n",
        "    torch.nn.LogSigmoid(),\n",
        "    torch.nn.Linear(64, 2),\n",
        ")\n"
      ]
    },
    {
      "attachments": {},
      "cell_type": "markdown",
      "metadata": {
        "id": "y8gvC5CSq0zq"
      },
      "source": [
        "# 2-2 Score Matching"
      ]
    },
    {
      "attachments": {},
      "cell_type": "markdown",
      "metadata": {
        "id": "nMToZiyxq9N0"
      },
      "source": [
        "Loss function:\n",
        "$$\\begin{equation}\n",
        "\\mathcal{L}(\\theta) = \\frac{1}{L}\\sum_{i=1}^{L}{λ(σ_i)}\\mathbb{E}_{\\mathbf{x}\\sim p(\\mathbf{x}), \\mathbf{\\tilde{x}}\\sim q_{σ_i}(\\mathbf{\\tilde{x}|x})}\\left[\\frac{1}{2} \\left\\lVert\\mathbf{s_\\theta}(\\mathbf{\\tilde{x}, σ_i}) - \\nabla_\\mathbf{\\tilde{x}} \\mathbf{log q_{σ_i}}(\\mathbf{\\tilde{x}|x})\\right\\rVert^2\\right]\n",
        "\\end{equation}$$\n",
        "\n",
        "$$\\begin{equation}\n",
        "=\\frac{1}{L}\\sum_{i=1}^{L}\\mathbb{E}_{\\mathbf{x}\\sim p(\\mathbf{x}), \\mathbf{z}\\sim\\mathcal{N}(\\mathbf{0}, \\mathbf{I})}\\left[\\frac{1}{2} \\left\\lVert\\mathbf{\\sigma_i s_\\theta}(\\mathbf{x+σ_iz, σ_i})+ z\\right\\rVert^2\\right] + const.\n",
        "\\end{equation}$$\n"
      ]
    },
    {
      "cell_type": "code",
      "execution_count": 13,
      "metadata": {
        "id": "bo84WqtawjYo"
      },
      "outputs": [],
      "source": [
        "sigmas = torch.linspace(0.001, 0.04, steps=1000)\n",
        "L = 1000\n",
        "\n",
        "\n",
        "def calc_loss(score_network: torch.nn.Module, x: torch.Tensor) -> torch.Tensor:\n",
        "    # x: (batch_size, 2) is the training data\n",
        "    # Sampling a mini-batch from noise scale indices\n",
        "    sig_idx = torch.randperm(len(sigmas))[:len(x)]\n",
        "    sig_samples = sigmas[sig_idx].view(-1,1)\n",
        "    # Sampling a mini-batch from Gaussian noise\n",
        "    z = torch.randn_like(x)\n",
        "    perturbed_inputs = x + sig_samples * z\n",
        "    net_input = torch.cat([perturbed_inputs, sig_samples],dim = 1)\n",
        "    term_one = score_network2(net_input) * sig_samples\n",
        "    loss = torch.mean(0.5 * (torch.norm(term_one + z, dim=1) ** 2))\n",
        "\n",
        "    return loss"
      ]
    },
    {
      "attachments": {},
      "cell_type": "markdown",
      "metadata": {
        "id": "dK07BcIAwtJ6"
      },
      "source": [
        "# 2-3 Training"
      ]
    },
    {
      "cell_type": "code",
      "execution_count": 15,
      "metadata": {
        "colab": {
          "base_uri": "https://localhost:8080/"
        },
        "id": "WF1S7gO2wpam",
        "outputId": "99ee1856-5edc-4d4a-8129-840dda1f81fe"
      },
      "outputs": [
        {
          "name": "stdout",
          "output_type": "stream",
          "text": [
            "0 (0.018867969512939453s): 0.9891771564483642\n",
            "1000 (15.091500997543335s): 1.012560329914093\n",
            "2000 (28.226950883865356s): 1.0238212537765503\n",
            "3000 (41.8674750328064s): 0.9901866960525513\n",
            "4000 (55.33788561820984s): 0.921984757900238\n",
            "5000 (69.18789553642273s): 1.0241402215957642\n",
            "6000 (83.7663950920105s): 1.0112360696792602\n",
            "7000 (99.26833653450012s): 0.9917578029632569\n",
            "8000 (116.99101114273071s): 0.925668291091919\n",
            "9000 (134.890718460083s): 1.0102296919822693\n",
            "10000 (153.77783823013306s): 1.0362672080993653\n",
            "11000 (173.11637210845947s): 1.019203236579895\n",
            "12000 (193.37780857086182s): 1.0085826892852783\n",
            "13000 (214.76559162139893s): 0.9462062759399414\n",
            "14000 (237.37019634246826s): 0.951680317401886\n",
            "15000 (263.071382522583s): 0.9804962816238403\n",
            "16000 (287.61929965019226s): 1.0589520015716554\n",
            "17000 (312.37021136283875s): 0.9715291652679443\n",
            "18000 (336.8734612464905s): 0.9993920793533325\n",
            "19000 (361.05189323425293s): 0.9357013144493103\n"
          ]
        }
      ],
      "source": [
        "# start the training loop\n",
        "import time\n",
        "optim = torch.optim.Adam(score_network2.parameters(), lr = 3e-4)\n",
        "dloader = torch.utils.data.DataLoader(dset, batch_size = 256, shuffle=True)\n",
        "t0 = time.time()\n",
        "train_loss2 = []\n",
        "for i_epoch in range(20000):\n",
        "    total_loss = 0\n",
        "    for data, in dloader:\n",
        "        optim.zero_grad()\n",
        "\n",
        "        # training step\n",
        "        loss = calc_loss(score_network2, data)\n",
        "        loss.backward()\n",
        "        optim.step()\n",
        "        \n",
        "        # running stats\n",
        "        total_loss = total_loss + loss.detach().item() * data.shape[0]\n",
        "    \n",
        "    # print the training stats\n",
        "    if i_epoch % 1000 == 0:\n",
        "        print(f\"{i_epoch} ({time.time() - t0}s): {total_loss / len(dset)}\")\n",
        "    train_loss2 = np.append(train_loss2 ,loss.item())"
      ]
    },
    {
      "cell_type": "code",
      "execution_count": 16,
      "metadata": {
        "colab": {
          "base_uri": "https://localhost:8080/",
          "height": 295
        },
        "id": "pQbayYLTxC2Y",
        "outputId": "f647c069-c26d-45be-a06f-9b5f2739cb94"
      },
      "outputs": [
        {
          "data": {
            "image/png": "[encoded data removed]",
            "text/plain": [
              "<Figure size 432x288 with 1 Axes>"
            ]
          },
          "metadata": {
            "needs_background": "light"
          },
          "output_type": "display_data"
        }
      ],
      "source": [
        "plt.plot(train_loss2)\n",
        "plt.title('Noise Conditional Score Network Loss')\n",
        "plt.xlabel('Epoch')\n",
        "plt.ylabel('Loss')\n",
        "plt.show()"
      ]
    },
    {
      "attachments": {},
      "cell_type": "markdown",
      "metadata": {
        "id": "POWBC8SvxZKB"
      },
      "source": [
        "# 2-4 Generation"
      ]
    },
    {
      "attachments": {},
      "cell_type": "markdown",
      "metadata": {
        "id": "H_hQLut3xbO-"
      },
      "source": [
        "Generate the samples using Annealed Langevin dynamics:\n",
        "\n",
        "$$\\begin{equation}\n",
        "    \\mathbf{x}_{i + 1} = \\mathbf{x}_i + \\frac{α_i}{2}\\mathbf{s_\\theta}(\\mathbf{x+σ_iz, σ_i}) + \\sqrt{\\alpha_i}\\mathbf{z}_i\n",
        "\\end{equation}$$\n",
        "\n",
        "where $\\mathbf{z}_i\\sim\\mathcal{N}(\\mathbf{0}, \\mathbf{I})$ is a random number sampled from the normal distribution and $\\mathbf{α_i=ϵ.\\frac{σ_i}{σ_L}}$\n",
        "\n",
        "\n"
      ]
    },
    {
      "cell_type": "code",
      "execution_count": 23,
      "metadata": {
        "colab": {
          "base_uri": "https://localhost:8080/"
        },
        "id": "-hRhdpbzxVhC",
        "outputId": "5cb84f28-2cee-4a6f-b355-99c75bec6f35"
      },
      "outputs": [
        {
          "name": "stdout",
          "output_type": "stream",
          "text": [
            "0, 0.01159524917602539s\n",
            "50, 0.6168804168701172s\n",
            "100, 1.0121967792510986s\n",
            "150, 1.5921287536621094s\n",
            "200, 2.0708718299865723s\n",
            "250, 2.3281240463256836s\n",
            "300, 2.5826549530029297s\n",
            "350, 2.8278682231903076s\n",
            "400, 3.069114923477173s\n",
            "450, 3.3203794956207275s\n",
            "500, 3.5667266845703125s\n",
            "550, 3.8094587326049805s\n",
            "600, 4.0536298751831055s\n",
            "650, 4.297529220581055s\n",
            "700, 4.55481743812561s\n",
            "750, 4.791627883911133s\n",
            "800, 5.028670072555542s\n",
            "850, 5.266448259353638s\n",
            "900, 5.508517265319824s\n",
            "950, 5.748680114746094s\n"
          ]
        }
      ],
      "source": [
        "def generate_samples_2(score_net: torch.nn.Module, nsamples: int, eps: float = 0.01) -> torch.Tensor:\n",
        "\n",
        "    new_x = torch.rand(nsamples, 2)    \n",
        "    t0 = time.time()\n",
        "    # for i in range(L):\n",
        "    sigma,_ = torch.sort(sigmas, descending = True)\n",
        "    sigma = sigma.view(-1,1)\n",
        "    alpha = (eps * (sigma / sigmas[-1]))\n",
        "      \n",
        "    for t in range(nsamples):\n",
        "      z_t = torch.randn_like(new_x) \n",
        "      perturbed_inputs = new_x + sigma * z_t\n",
        "      net_input = torch.cat([perturbed_inputs, sigma],dim = 1)\n",
        "      new_x = new_x + ((alpha/2) * score_net(net_input)) +  (alpha ** 0.5) * z_t\n",
        "      \n",
        "      if t % 50 == 0:\n",
        "        print(f\"{t}, {time.time() - t0}s\")\n",
        "      \n",
        "    return new_x\n",
        "    \n",
        "    \n",
        "\n",
        "with torch.no_grad():\n",
        "  samples2 = generate_samples_2(score_network2, 1000)\n"
      ]
    },
    {
      "cell_type": "code",
      "execution_count": 28,
      "metadata": {
        "colab": {
          "base_uri": "https://localhost:8080/",
          "height": 299
        },
        "id": "ONCEXIYDLkYX",
        "outputId": "b1c7072e-52f3-4e19-f800-16a05f6445bc"
      },
      "outputs": [
        {
          "data": {
            "text/plain": [
              "Text(0.5, 1.0, 'Generated samples using Annealed Langevin dynamics')"
            ]
          },
          "execution_count": 28,
          "metadata": {},
          "output_type": "execute_result"
        },
        {
          "data": {
            "image/png": "[encoded data removed]",
            "text/plain": [
              "<Figure size 432x288 with 1 Axes>"
            ]
          },
          "metadata": {
            "needs_background": "light"
          },
          "output_type": "display_data"
        }
      ],
      "source": [
        "plt.plot(samples2[:, 0], samples2[:, 1], 'C1.')\n",
        "plt.title('Generated samples using Annealed Langevin dynamics')"
      ]
    }
  ],
  "metadata": {
    "colab": {
      "provenance": []
    },
    "gpuClass": "standard",
    "kernelspec": {
      "display_name": "Python 3",
      "language": "python",
      "name": "python3"
    },
    "language_info": {
      "codemirror_mode": {
        "name": "ipython",
        "version": 3
      },
      "file_extension": ".py",
      "mimetype": "text/x-python",
      "name": "python",
      "nbconvert_exporter": "python",
      "pygments_lexer": "ipython3",
      "version": "3.10.0"
    },
    "vscode": {
      "interpreter": {
        "hash": "11611f3a03c327c9100cf90e481bf57ac2137befa2cd8a723f7160766f31a16c"
      }
    }
  },
  "nbformat": 4,
  "nbformat_minor": 0
}
